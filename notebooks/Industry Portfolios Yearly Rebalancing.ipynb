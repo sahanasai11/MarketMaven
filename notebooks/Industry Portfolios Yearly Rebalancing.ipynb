{
 "cells": [
  {
   "cell_type": "code",
   "execution_count": 1,
   "id": "20fb271a",
   "metadata": {},
   "outputs": [],
   "source": [
    "# IMPORTS \n",
    "import pandas as pd\n",
    "import numpy as np\n",
    "from dateutil.relativedelta import relativedelta\n",
    "from pandas.tseries.offsets import DateOffset\n",
    "import warnings\n",
    "warnings.filterwarnings('ignore')\n",
    "import datetime\n",
    "import matplotlib.pyplot as plt\n",
    "from sklearn.linear_model import LinearRegression\n",
    "from datetime import datetime, timedelta\n",
    "from pandas import Timestamp\n",
    "from dateutil.rrule import rrule, MONTHLY\n",
    "import statsmodels.api as sm\n",
    "import statsmodels.formula.api as smf\n",
    "from scipy import stats\n",
    "import calendar\n",
    "from datetime import datetime\n",
    "import networkx as nx\n",
    "import math\n",
    "from pathlib import Path  \n"
   ]
  },
  {
   "cell_type": "markdown",
   "id": "1f011718",
   "metadata": {},
   "source": [
    "# Data Loading and Cleaning "
   ]
  },
  {
   "cell_type": "code",
   "execution_count": 2,
   "id": "5244ee8a",
   "metadata": {},
   "outputs": [],
   "source": [
    "data_equal = pd.read_csv('49_Industry_Portfolios_Equal.csv')\n",
    "data_sizes = pd.read_csv('49_Industry_Portfolios_Size.csv')\n",
    "data = pd.read_csv('ffm.csv')"
   ]
  },
  {
   "cell_type": "code",
   "execution_count": 3,
   "id": "06b044d5",
   "metadata": {},
   "outputs": [],
   "source": [
    "def clean_empty_industries(data):\n",
    "    data['Soda '] = data['Soda '].replace(-99.99, np.nan)\n",
    "    data['Hlth '] = data['Hlth '].replace(-99.99, np.nan)\n",
    "    data['Rubbr'] = data['Rubbr'].replace(-99.99, np.nan)\n",
    "    data['FabPr'] = data['FabPr'].replace(-99.99, np.nan)\n",
    "    data['Guns '] = data['Guns '].replace(-99.99, np.nan)\n",
    "    data['Gold '] = data['Gold '].replace(-99.99, np.nan)\n",
    "    data['PerSv'] = data['PerSv'].replace(-99.99, np.nan)\n",
    "    data['Softw'] = data['Softw'].replace(-99.99, np.nan)\n",
    "    data['Paper'] = data['Paper'].replace(-99.99, np.nan)\n",
    "    \n",
    "    data = data.dropna()\n",
    "    data = data.reset_index().drop('index', axis=1)\n",
    "    return data "
   ]
  },
  {
   "cell_type": "code",
   "execution_count": 4,
   "id": "7e210f27",
   "metadata": {},
   "outputs": [],
   "source": [
    "data_equal = clean_empty_industries(data_equal)"
   ]
  },
  {
   "cell_type": "code",
   "execution_count": 5,
   "id": "4129c942",
   "metadata": {},
   "outputs": [],
   "source": [
    "# CLEAN FARMA AND FRENCH DATA \n",
    "new_dates_equal = []\n",
    "for item in data_equal.values:\n",
    "    year = str(item[0])[:4]\n",
    "    month = str(int(item[0]))[4:6]\n",
    "    new_dates_equal.append(year + \"-\" + month )\n",
    "    \n",
    "new_dates = []\n",
    "for item in data.values:\n",
    "    year = str(item[0])[:4]\n",
    "    month = str(item[0])[4:6]\n",
    "    new_dates.append(year + \"-\" + month )\n",
    "\n",
    "new_dates_size = []\n",
    "for item in data_sizes.values:\n",
    "    year = str(item[0])[:4]\n",
    "    month = str(item[0])[4:6]\n",
    "    new_dates_size.append(year + \"-\" + month )\n",
    "\n",
    "for index in range(len(data_equal['Date'])):\n",
    "    data_equal['Date'][index] = new_dates_equal[index]\n",
    "\n",
    "for index in range(len(data['Date'])):\n",
    "    data['Date'][index] = new_dates[index]\n",
    "    \n",
    "for index in range(len(data_sizes['Date'])):\n",
    "    data_sizes['Date'][index] = new_dates_size[index]\n",
    "\n",
    "data_equal.Date = pd.to_datetime(data_equal.Date)\n",
    "data.Date = pd.to_datetime(data.Date)\n",
    "data_sizes.Date = pd.to_datetime(data_sizes.Date)\n",
    "\n",
    "for index in range(len(data_equal['Date'])):\n",
    "    data_equal['Date'][index] = data_equal['Date'][index] + relativedelta(day=31)\n",
    "\n",
    "for index in range(len(data['Date'])):\n",
    "    data['Date'][index] = data['Date'][index] + relativedelta(day=31)\n",
    "    \n",
    "for index in range(len(data_sizes['Date'])):\n",
    "    data_sizes['Date'][index] = data_sizes['Date'][index] + relativedelta(day=31)"
   ]
  },
  {
   "cell_type": "code",
   "execution_count": 6,
   "id": "45e93cee",
   "metadata": {},
   "outputs": [],
   "source": [
    "for column in data_equal.columns:\n",
    "    new_col = column.rstrip()\n",
    "    data_equal = data_equal.rename(columns={column: new_col})"
   ]
  },
  {
   "cell_type": "code",
   "execution_count": 7,
   "id": "8e289e04",
   "metadata": {},
   "outputs": [],
   "source": [
    "for column in data_sizes.columns:\n",
    "    if column == 'Date':\n",
    "        continue\n",
    "    new_col = column.rstrip() + \"_SZE\"\n",
    "    data_sizes = data_sizes.rename(columns={column: new_col})\n",
    "    \n",
    "equal_sizes = pd.merge(data_equal, data_sizes, how='inner', on=['Date'])"
   ]
  },
  {
   "cell_type": "code",
   "execution_count": 8,
   "id": "08f0461e",
   "metadata": {},
   "outputs": [],
   "source": [
    "## Reconstruct the data table to have columns of data AND industry to make rolling graphs easier to construct\n",
    "\n",
    "equal = pd.DataFrame(columns=['Date', 'Industry', 'Return', 'Coeff'])\n",
    "columns = (list(data_equal.columns))[1:]\n",
    "\n",
    "for index in range(len(equal_sizes)):\n",
    "    curr_date = equal_sizes.loc[index, 'Date']\n",
    "    for curr_industry in columns:\n",
    "        curr_return = equal_sizes.loc[index, curr_industry]\n",
    "        curr_size = equal_sizes.loc[index, curr_industry + \"_SZE\"]\n",
    "        curr_entry = {'Date': curr_date, 'Industry': curr_industry, 'Return': curr_return, 'SZE': curr_size,'Coeff': 0}\n",
    "        equal = equal.append(curr_entry, ignore_index=True)\n",
    "\n"
   ]
  },
  {
   "cell_type": "code",
   "execution_count": 9,
   "id": "ff9e9dde",
   "metadata": {},
   "outputs": [],
   "source": [
    "filepath = Path('industry_equal_data.csv')  \n",
    "data_equal.to_csv(filepath) "
   ]
  },
  {
   "cell_type": "markdown",
   "id": "faa614fd",
   "metadata": {},
   "source": [
    "# Construct Graphs and Coefficents "
   ]
  },
  {
   "cell_type": "code",
   "execution_count": 10,
   "id": "32051139",
   "metadata": {},
   "outputs": [],
   "source": [
    "def add_correlation_edges(graph, sectors, theta, data):\n",
    "    # data here is previous 12 months \n",
    "    for i in sectors:\n",
    "        for j in sectors:\n",
    "            curr_corr = data[i].corr(data[j])\n",
    "            if i != j and abs(curr_corr) > theta:\n",
    "                graph.add_edge(i, j)\n",
    "    return graph\n",
    "            "
   ]
  },
  {
   "cell_type": "code",
   "execution_count": 11,
   "id": "42d5d1d8",
   "metadata": {},
   "outputs": [],
   "source": [
    "# .6, .65 alphas -> 0.7588600246863374, 0.6819597720678514\n",
    "def create_graph(data, sectors): \n",
    "    g = nx.Graph()\n",
    "    g.add_nodes_from(sectors)\n",
    "    g = add_correlation_edges(g , list(g.nodes), .55, data)\n",
    "    return g"
   ]
  },
  {
   "cell_type": "code",
   "execution_count": 12,
   "id": "a47626f8",
   "metadata": {},
   "outputs": [],
   "source": [
    "def solve_optimization_problem():\n",
    "    return 1/3 "
   ]
  },
  {
   "cell_type": "code",
   "execution_count": 13,
   "id": "d1b02d79",
   "metadata": {},
   "outputs": [],
   "source": [
    "def find_average_centralities(graph):\n",
    "    average_centrailites = dict()\n",
    "    scale_factor = solve_optimization_problem()\n",
    "    \n",
    "    degree_centrality = nx.degree_centrality(graph)\n",
    "    closeness_centrality = nx.closeness_centrality(graph)\n",
    "    betweenness_centrality = nx.betweenness_centrality(graph)\n",
    "    for node in graph.nodes():\n",
    "        average_centrailites[node] = 1/3 * (degree_centrality[node]) + 1/3 *(closeness_centrality[node]) + 1/3 *(betweenness_centrality[node])       \n",
    "    return average_centrailites"
   ]
  },
  {
   "cell_type": "code",
   "execution_count": 14,
   "id": "317f7305",
   "metadata": {},
   "outputs": [],
   "source": [
    "def find_monthly_graph(graph_data, data, start_date, end_date, max_date):\n",
    "    ## for each date, find previous 11 months and find the graph (using data_equal) \n",
    "    columns = (list(data.columns))[1:]\n",
    "    while end_date <= max_date:\n",
    "        # find graph for that data \n",
    "        curr_data = data[(data['Date'] >= start_date) & (data['Date'] <= end_date)]\n",
    "        curr_graph = create_graph(curr_data, columns)\n",
    "        \n",
    "        # find coefficents and add into the table\n",
    "        average_centralities = find_average_centralities(curr_graph)\n",
    "        \n",
    "        for key in average_centralities.keys():\n",
    "            equal.loc[(equal['Date'] == end_date) & (equal['Industry'] == key), 'Coeff'] = average_centralities[key]            \n",
    "        \n",
    "        # update date \n",
    "        start_date = start_date + pd.DateOffset(months=1) + pd.offsets.MonthEnd(0)\n",
    "        end_date = end_date + pd.DateOffset(months=1) + pd.offsets.MonthEnd(0)       \n",
    "    "
   ]
  },
  {
   "cell_type": "code",
   "execution_count": 15,
   "id": "8cff4eb1",
   "metadata": {},
   "outputs": [],
   "source": [
    "find_monthly_graph(equal, data_equal, data_equal.head(1)['Date'].item() - pd.DateOffset(months=11) + pd.offsets.MonthEnd(0), data_equal.head(1)['Date'].item(), data_equal.tail(1)['Date'].item())\n",
    "\n",
    "## NOTE, THE 1 MONTH SHOULD BE ZERO SO REMOVE IT AND THE SECOND MONHTH IS ALL THE SAME SO DROP IT AS WELL \n",
    "\n",
    "equal = equal[equal['Date'] != '1969-07-31']\n",
    "equal = equal[equal['Date'] != '1969-08-31']\n",
    "\n",
    "\n"
   ]
  },
  {
   "cell_type": "code",
   "execution_count": 16,
   "id": "09aafb45",
   "metadata": {},
   "outputs": [
    {
     "data": {
      "text/html": [
       "<div>\n",
       "<style scoped>\n",
       "    .dataframe tbody tr th:only-of-type {\n",
       "        vertical-align: middle;\n",
       "    }\n",
       "\n",
       "    .dataframe tbody tr th {\n",
       "        vertical-align: top;\n",
       "    }\n",
       "\n",
       "    .dataframe thead th {\n",
       "        text-align: right;\n",
       "    }\n",
       "</style>\n",
       "<table border=\"1\" class=\"dataframe\">\n",
       "  <thead>\n",
       "    <tr style=\"text-align: right;\">\n",
       "      <th></th>\n",
       "      <th>Date</th>\n",
       "      <th>Industry</th>\n",
       "      <th>Return</th>\n",
       "      <th>Coeff</th>\n",
       "      <th>SZE</th>\n",
       "    </tr>\n",
       "  </thead>\n",
       "  <tbody>\n",
       "    <tr>\n",
       "      <th>98</th>\n",
       "      <td>1969-09-30</td>\n",
       "      <td>Agric</td>\n",
       "      <td>-1.04</td>\n",
       "      <td>0.652961</td>\n",
       "      <td>5.0</td>\n",
       "    </tr>\n",
       "    <tr>\n",
       "      <th>99</th>\n",
       "      <td>1969-09-30</td>\n",
       "      <td>Food</td>\n",
       "      <td>-1.53</td>\n",
       "      <td>0.666743</td>\n",
       "      <td>65.0</td>\n",
       "    </tr>\n",
       "    <tr>\n",
       "      <th>100</th>\n",
       "      <td>1969-09-30</td>\n",
       "      <td>Soda</td>\n",
       "      <td>-2.66</td>\n",
       "      <td>0.666743</td>\n",
       "      <td>14.0</td>\n",
       "    </tr>\n",
       "    <tr>\n",
       "      <th>101</th>\n",
       "      <td>1969-09-30</td>\n",
       "      <td>Beer</td>\n",
       "      <td>-4.51</td>\n",
       "      <td>0.652961</td>\n",
       "      <td>15.0</td>\n",
       "    </tr>\n",
       "    <tr>\n",
       "      <th>102</th>\n",
       "      <td>1969-09-30</td>\n",
       "      <td>Smoke</td>\n",
       "      <td>-0.49</td>\n",
       "      <td>0.639465</td>\n",
       "      <td>11.0</td>\n",
       "    </tr>\n",
       "    <tr>\n",
       "      <th>...</th>\n",
       "      <td>...</td>\n",
       "      <td>...</td>\n",
       "      <td>...</td>\n",
       "      <td>...</td>\n",
       "      <td>...</td>\n",
       "    </tr>\n",
       "    <tr>\n",
       "      <th>31600</th>\n",
       "      <td>2023-03-31</td>\n",
       "      <td>Banks</td>\n",
       "      <td>-16.41</td>\n",
       "      <td>0.613636</td>\n",
       "      <td>388.0</td>\n",
       "    </tr>\n",
       "    <tr>\n",
       "      <th>31601</th>\n",
       "      <td>2023-03-31</td>\n",
       "      <td>Insur</td>\n",
       "      <td>-5.75</td>\n",
       "      <td>0.626669</td>\n",
       "      <td>98.0</td>\n",
       "    </tr>\n",
       "    <tr>\n",
       "      <th>31602</th>\n",
       "      <td>2023-03-31</td>\n",
       "      <td>RlEst</td>\n",
       "      <td>-2.82</td>\n",
       "      <td>0.641873</td>\n",
       "      <td>32.0</td>\n",
       "    </tr>\n",
       "    <tr>\n",
       "      <th>31603</th>\n",
       "      <td>2023-03-31</td>\n",
       "      <td>Fin</td>\n",
       "      <td>-5.16</td>\n",
       "      <td>0.640016</td>\n",
       "      <td>89.0</td>\n",
       "    </tr>\n",
       "    <tr>\n",
       "      <th>31604</th>\n",
       "      <td>2023-03-31</td>\n",
       "      <td>Other</td>\n",
       "      <td>-7.53</td>\n",
       "      <td>0.588108</td>\n",
       "      <td>365.0</td>\n",
       "    </tr>\n",
       "  </tbody>\n",
       "</table>\n",
       "<p>31507 rows × 5 columns</p>\n",
       "</div>"
      ],
      "text/plain": [
       "            Date Industry  Return     Coeff    SZE\n",
       "98    1969-09-30    Agric   -1.04  0.652961    5.0\n",
       "99    1969-09-30     Food   -1.53  0.666743   65.0\n",
       "100   1969-09-30     Soda   -2.66  0.666743   14.0\n",
       "101   1969-09-30     Beer   -4.51  0.652961   15.0\n",
       "102   1969-09-30    Smoke   -0.49  0.639465   11.0\n",
       "...          ...      ...     ...       ...    ...\n",
       "31600 2023-03-31    Banks  -16.41  0.613636  388.0\n",
       "31601 2023-03-31    Insur   -5.75  0.626669   98.0\n",
       "31602 2023-03-31    RlEst   -2.82  0.641873   32.0\n",
       "31603 2023-03-31      Fin   -5.16  0.640016   89.0\n",
       "31604 2023-03-31    Other   -7.53  0.588108  365.0\n",
       "\n",
       "[31507 rows x 5 columns]"
      ]
     },
     "execution_count": 16,
     "metadata": {},
     "output_type": "execute_result"
    }
   ],
   "source": [
    "equal"
   ]
  },
  {
   "cell_type": "code",
   "execution_count": 17,
   "id": "81fa13c6",
   "metadata": {},
   "outputs": [],
   "source": [
    "## write the data csv \n",
    "filepath = Path('industry_equal.csv')  \n",
    "equal.to_csv(filepath) "
   ]
  },
  {
   "cell_type": "code",
   "execution_count": 18,
   "id": "ed47689c",
   "metadata": {},
   "outputs": [
    {
     "name": "stdout",
     "output_type": "stream",
     "text": [
      "30_Industry_Portfolios_Daily.csv\r\n",
      "30_Industry_Portfolios_Value.xlsx\r\n",
      "49_Industry_Portfolios.CSV\r\n",
      "49_Industry_Portfolios_CSV.zip\r\n",
      "49_Industry_Portfolios_Equal.csv\r\n",
      "49_Industry_Portfolios_Size.csv\r\n",
      "49_Industry_Portfolios_Size.xlsx\r\n",
      "Betting Against Beta.ipynb\r\n",
      "\u001b[34mCS-145\u001b[m\u001b[m/\r\n",
      "CS_145_Final_Report.pdf\r\n",
      "F-F_Research_Data_5_Factors_2x3.csv\r\n",
      "F-F_Research_Data_5_Factors_2x3_CSV.zip\r\n",
      "IMGC0002.jpg\r\n",
      "IMGC0030.jpg\r\n",
      "IMGC0031.jpg\r\n",
      "Industry Portfolios Yearly Rebalancing.ipynb\r\n",
      "\u001b[34mPapers\u001b[m\u001b[m/\r\n",
      "ffm.csv\r\n",
      "\u001b[31mffm.numbers\u001b[m\u001b[m*\r\n",
      "industry_equal.csv\r\n",
      "industry_equal_data.csv\r\n",
      "monthly_stock copy.csv\r\n",
      "monthly_stock.csv\r\n"
     ]
    }
   ],
   "source": [
    "ls"
   ]
  },
  {
   "cell_type": "markdown",
   "id": "f6dfa048",
   "metadata": {},
   "source": [
    "# Construct Portfolio Now \n",
    "--------------------------------------\n",
    "Note, we will find the new portfolio at every month. We sort into quartiles and short the top while longing the bottom. "
   ]
  },
  {
   "cell_type": "code",
   "execution_count": 19,
   "id": "e35720ef",
   "metadata": {},
   "outputs": [],
   "source": [
    "## need to find quartlies and seperate into short/long \n",
    "def find_deciles(group):\n",
    "    group['Decile'] = pd.qcut(group['SZE'].rank(method='first'), 10, labels=False)\n",
    "    return group"
   ]
  },
  {
   "cell_type": "code",
   "execution_count": 20,
   "id": "1d0dbabd",
   "metadata": {},
   "outputs": [],
   "source": [
    "equal = equal.groupby('Date').apply(find_deciles)\n",
    "equal_short = equal[equal['Decile'] == 9]\n",
    "equal_long = equal[equal['Decile'] == 0]"
   ]
  },
  {
   "cell_type": "code",
   "execution_count": 21,
   "id": "4835fc2c",
   "metadata": {},
   "outputs": [],
   "source": [
    "def find_weights(group):\n",
    "    total_size = group['SZE'].sum()\n",
    "    num_stocks = group['SZE'].count()\n",
    "    group['EQ_weight'] = 1/float(num_stocks)\n",
    "    group['VAL_weight'] = group['SZE']/total_size\n",
    "    return group"
   ]
  },
  {
   "cell_type": "code",
   "execution_count": 22,
   "id": "3213cbb2",
   "metadata": {},
   "outputs": [],
   "source": [
    "equal_short = equal_short.groupby('Date').apply(find_weights)\n",
    "equal_short['EQ'] = equal_short['Return'] * equal_short['EQ_weight']\n",
    "equal_short['VAL'] = equal_short['Return'] * equal_short['VAL_weight']\n",
    "equal_short = equal_short.reset_index()\n",
    "equal_short = equal_short.drop('index', axis=1)\n",
    "\n",
    "\n",
    "equal_long = equal_long.groupby('Date').apply(find_weights)\n",
    "equal_long['EQ'] = equal_long['Return'] * equal_long['EQ_weight']\n",
    "equal_long['VAL'] = equal_long['Return'] * equal_long['VAL_weight']\n",
    "equal_long = equal_long.reset_index()\n",
    "equal_long = equal_long.drop('index', axis=1)"
   ]
  },
  {
   "cell_type": "code",
   "execution_count": 23,
   "id": "9593f7de",
   "metadata": {},
   "outputs": [],
   "source": [
    "# for each date, find the overall short and long portfolio which is just a sum \n",
    "new_data = pd.DataFrame(columns=['Date', 'EQ', 'VAL'])\n",
    "new_data['Date'] = equal_long['Date'].unique()"
   ]
  },
  {
   "cell_type": "code",
   "execution_count": 24,
   "id": "0c17d592",
   "metadata": {},
   "outputs": [],
   "source": [
    "eq_grouped_long = equal_long.groupby('Date')['EQ'].sum().reset_index()\n",
    "eq_grouped_short = equal_short.groupby('Date')['EQ'].sum().reset_index()\n",
    "new_data['EQ'] = eq_grouped_long['EQ'] - eq_grouped_short['EQ']\n",
    "\n",
    "val_grouped_long = equal_long.groupby('Date')['VAL'].sum().reset_index()\n",
    "val_grouped_short = equal_short.groupby('Date')['VAL'].sum().reset_index()\n",
    "new_data['VAL'] = val_grouped_long['VAL'] - val_grouped_short['VAL']"
   ]
  },
  {
   "cell_type": "code",
   "execution_count": 25,
   "id": "7622a2e8",
   "metadata": {},
   "outputs": [],
   "source": [
    "filepath = Path('ffm_industry.csv')  \n",
    "data.to_csv(filepath) "
   ]
  },
  {
   "cell_type": "code",
   "execution_count": 26,
   "id": "bf4dd940",
   "metadata": {},
   "outputs": [],
   "source": [
    "data = data.rename(columns={'Mkt-RF': 'Mkt_RF'})\n",
    "data['Mkt'] = data.Mkt_RF + data.RF"
   ]
  },
  {
   "cell_type": "code",
   "execution_count": 27,
   "id": "92f7098b",
   "metadata": {},
   "outputs": [],
   "source": [
    "merged_data = pd.merge(new_data, data, how='inner', on=['Date'])\n",
    "merged_data['EQ_RF'] = merged_data['EQ'] - merged_data['RF']\n",
    "merged_data['VAL_RF'] = merged_data['VAL'] - merged_data['RF']"
   ]
  },
  {
   "cell_type": "code",
   "execution_count": 28,
   "id": "abcc02cc",
   "metadata": {},
   "outputs": [
    {
     "data": {
      "text/html": [
       "<div>\n",
       "<style scoped>\n",
       "    .dataframe tbody tr th:only-of-type {\n",
       "        vertical-align: middle;\n",
       "    }\n",
       "\n",
       "    .dataframe tbody tr th {\n",
       "        vertical-align: top;\n",
       "    }\n",
       "\n",
       "    .dataframe thead th {\n",
       "        text-align: right;\n",
       "    }\n",
       "</style>\n",
       "<table border=\"1\" class=\"dataframe\">\n",
       "  <thead>\n",
       "    <tr style=\"text-align: right;\">\n",
       "      <th></th>\n",
       "      <th>Date</th>\n",
       "      <th>EQ</th>\n",
       "      <th>VAL</th>\n",
       "      <th>Mkt_RF</th>\n",
       "      <th>SMB</th>\n",
       "      <th>HML</th>\n",
       "      <th>RMW</th>\n",
       "      <th>CMA</th>\n",
       "      <th>RF</th>\n",
       "      <th>Mkt</th>\n",
       "      <th>EQ_RF</th>\n",
       "      <th>VAL_RF</th>\n",
       "    </tr>\n",
       "  </thead>\n",
       "  <tbody>\n",
       "    <tr>\n",
       "      <th>0</th>\n",
       "      <td>1969-09-30</td>\n",
       "      <td>-0.936</td>\n",
       "      <td>-0.303257</td>\n",
       "      <td>-2.98</td>\n",
       "      <td>1.29</td>\n",
       "      <td>-3.27</td>\n",
       "      <td>3.39</td>\n",
       "      <td>-0.82</td>\n",
       "      <td>0.62</td>\n",
       "      <td>-2.36</td>\n",
       "      <td>-1.556</td>\n",
       "      <td>-0.923257</td>\n",
       "    </tr>\n",
       "    <tr>\n",
       "      <th>1</th>\n",
       "      <td>1969-10-31</td>\n",
       "      <td>7.066</td>\n",
       "      <td>1.321464</td>\n",
       "      <td>5.06</td>\n",
       "      <td>3.96</td>\n",
       "      <td>-3.16</td>\n",
       "      <td>0.05</td>\n",
       "      <td>-2.15</td>\n",
       "      <td>0.60</td>\n",
       "      <td>5.66</td>\n",
       "      <td>6.466</td>\n",
       "      <td>0.721464</td>\n",
       "    </tr>\n",
       "    <tr>\n",
       "      <th>2</th>\n",
       "      <td>1969-11-30</td>\n",
       "      <td>-0.644</td>\n",
       "      <td>0.798799</td>\n",
       "      <td>-3.79</td>\n",
       "      <td>-2.45</td>\n",
       "      <td>-1.19</td>\n",
       "      <td>1.46</td>\n",
       "      <td>0.30</td>\n",
       "      <td>0.52</td>\n",
       "      <td>-3.27</td>\n",
       "      <td>-1.164</td>\n",
       "      <td>0.278799</td>\n",
       "    </tr>\n",
       "    <tr>\n",
       "      <th>3</th>\n",
       "      <td>1969-12-31</td>\n",
       "      <td>0.078</td>\n",
       "      <td>0.110774</td>\n",
       "      <td>-2.63</td>\n",
       "      <td>-3.76</td>\n",
       "      <td>-2.86</td>\n",
       "      <td>2.54</td>\n",
       "      <td>-1.81</td>\n",
       "      <td>0.64</td>\n",
       "      <td>-1.99</td>\n",
       "      <td>-0.562</td>\n",
       "      <td>-0.529226</td>\n",
       "    </tr>\n",
       "    <tr>\n",
       "      <th>4</th>\n",
       "      <td>1970-01-31</td>\n",
       "      <td>-4.386</td>\n",
       "      <td>-0.312874</td>\n",
       "      <td>-8.10</td>\n",
       "      <td>3.12</td>\n",
       "      <td>3.13</td>\n",
       "      <td>-1.72</td>\n",
       "      <td>3.84</td>\n",
       "      <td>0.60</td>\n",
       "      <td>-7.50</td>\n",
       "      <td>-4.986</td>\n",
       "      <td>-0.912874</td>\n",
       "    </tr>\n",
       "    <tr>\n",
       "      <th>...</th>\n",
       "      <td>...</td>\n",
       "      <td>...</td>\n",
       "      <td>...</td>\n",
       "      <td>...</td>\n",
       "      <td>...</td>\n",
       "      <td>...</td>\n",
       "      <td>...</td>\n",
       "      <td>...</td>\n",
       "      <td>...</td>\n",
       "      <td>...</td>\n",
       "      <td>...</td>\n",
       "      <td>...</td>\n",
       "    </tr>\n",
       "    <tr>\n",
       "      <th>638</th>\n",
       "      <td>2022-11-30</td>\n",
       "      <td>6.008</td>\n",
       "      <td>5.855097</td>\n",
       "      <td>4.60</td>\n",
       "      <td>-2.67</td>\n",
       "      <td>1.38</td>\n",
       "      <td>6.01</td>\n",
       "      <td>3.11</td>\n",
       "      <td>0.29</td>\n",
       "      <td>4.89</td>\n",
       "      <td>5.718</td>\n",
       "      <td>5.565097</td>\n",
       "    </tr>\n",
       "    <tr>\n",
       "      <th>639</th>\n",
       "      <td>2022-12-31</td>\n",
       "      <td>-0.162</td>\n",
       "      <td>-1.271185</td>\n",
       "      <td>-6.41</td>\n",
       "      <td>-0.16</td>\n",
       "      <td>1.32</td>\n",
       "      <td>0.09</td>\n",
       "      <td>4.19</td>\n",
       "      <td>0.33</td>\n",
       "      <td>-6.08</td>\n",
       "      <td>-0.492</td>\n",
       "      <td>-1.601185</td>\n",
       "    </tr>\n",
       "    <tr>\n",
       "      <th>640</th>\n",
       "      <td>2023-01-31</td>\n",
       "      <td>1.444</td>\n",
       "      <td>3.022602</td>\n",
       "      <td>6.65</td>\n",
       "      <td>4.43</td>\n",
       "      <td>-4.05</td>\n",
       "      <td>-2.62</td>\n",
       "      <td>-4.53</td>\n",
       "      <td>0.35</td>\n",
       "      <td>7.00</td>\n",
       "      <td>1.094</td>\n",
       "      <td>2.672602</td>\n",
       "    </tr>\n",
       "    <tr>\n",
       "      <th>641</th>\n",
       "      <td>2023-02-28</td>\n",
       "      <td>3.820</td>\n",
       "      <td>3.525853</td>\n",
       "      <td>-2.58</td>\n",
       "      <td>0.69</td>\n",
       "      <td>-0.78</td>\n",
       "      <td>0.90</td>\n",
       "      <td>-1.41</td>\n",
       "      <td>0.34</td>\n",
       "      <td>-2.24</td>\n",
       "      <td>3.480</td>\n",
       "      <td>3.185853</td>\n",
       "    </tr>\n",
       "    <tr>\n",
       "      <th>642</th>\n",
       "      <td>2023-03-31</td>\n",
       "      <td>3.006</td>\n",
       "      <td>3.887324</td>\n",
       "      <td>2.51</td>\n",
       "      <td>-7.01</td>\n",
       "      <td>-9.01</td>\n",
       "      <td>1.92</td>\n",
       "      <td>-2.29</td>\n",
       "      <td>0.36</td>\n",
       "      <td>2.87</td>\n",
       "      <td>2.646</td>\n",
       "      <td>3.527324</td>\n",
       "    </tr>\n",
       "  </tbody>\n",
       "</table>\n",
       "<p>643 rows × 12 columns</p>\n",
       "</div>"
      ],
      "text/plain": [
       "          Date     EQ       VAL  Mkt_RF   SMB   HML   RMW   CMA    RF   Mkt  \\\n",
       "0   1969-09-30 -0.936 -0.303257   -2.98  1.29 -3.27  3.39 -0.82  0.62 -2.36   \n",
       "1   1969-10-31  7.066  1.321464    5.06  3.96 -3.16  0.05 -2.15  0.60  5.66   \n",
       "2   1969-11-30 -0.644  0.798799   -3.79 -2.45 -1.19  1.46  0.30  0.52 -3.27   \n",
       "3   1969-12-31  0.078  0.110774   -2.63 -3.76 -2.86  2.54 -1.81  0.64 -1.99   \n",
       "4   1970-01-31 -4.386 -0.312874   -8.10  3.12  3.13 -1.72  3.84  0.60 -7.50   \n",
       "..         ...    ...       ...     ...   ...   ...   ...   ...   ...   ...   \n",
       "638 2022-11-30  6.008  5.855097    4.60 -2.67  1.38  6.01  3.11  0.29  4.89   \n",
       "639 2022-12-31 -0.162 -1.271185   -6.41 -0.16  1.32  0.09  4.19  0.33 -6.08   \n",
       "640 2023-01-31  1.444  3.022602    6.65  4.43 -4.05 -2.62 -4.53  0.35  7.00   \n",
       "641 2023-02-28  3.820  3.525853   -2.58  0.69 -0.78  0.90 -1.41  0.34 -2.24   \n",
       "642 2023-03-31  3.006  3.887324    2.51 -7.01 -9.01  1.92 -2.29  0.36  2.87   \n",
       "\n",
       "     EQ_RF    VAL_RF  \n",
       "0   -1.556 -0.923257  \n",
       "1    6.466  0.721464  \n",
       "2   -1.164  0.278799  \n",
       "3   -0.562 -0.529226  \n",
       "4   -4.986 -0.912874  \n",
       "..     ...       ...  \n",
       "638  5.718  5.565097  \n",
       "639 -0.492 -1.601185  \n",
       "640  1.094  2.672602  \n",
       "641  3.480  3.185853  \n",
       "642  2.646  3.527324  \n",
       "\n",
       "[643 rows x 12 columns]"
      ]
     },
     "execution_count": 28,
     "metadata": {},
     "output_type": "execute_result"
    }
   ],
   "source": [
    "merged_data"
   ]
  },
  {
   "cell_type": "markdown",
   "id": "fd8fd251",
   "metadata": {},
   "source": [
    "# Portfolio Analysis"
   ]
  },
  {
   "cell_type": "code",
   "execution_count": 29,
   "id": "e8a3110f",
   "metadata": {},
   "outputs": [],
   "source": [
    "def find_corr(r1, r2):\n",
    "    return r1.corr(r2)"
   ]
  },
  {
   "cell_type": "code",
   "execution_count": 30,
   "id": "1cfd1b70",
   "metadata": {},
   "outputs": [],
   "source": [
    "def compute_monthly_average(ret_col):\n",
    "    return np.mean(ret_col)\n",
    "\n",
    "def compute_monthly_volatility(data_lst):\n",
    "    return np.std(data_lst)\n",
    "\n",
    "def compute_monthly_sharpe_ratio(portfolio_return, rf):\n",
    "    return ((np.mean(portfolio_return) - np.mean(rf))/np.std(portfolio_return))"
   ]
  },
  {
   "cell_type": "code",
   "execution_count": 31,
   "id": "b45a8927",
   "metadata": {},
   "outputs": [],
   "source": [
    "def find_quantative_measures(weight_type, data):\n",
    "    print(\"MEAN MONTHLY RETURNS\")\n",
    "    print(f\"FF Equal Portfolio {weight_type}: {compute_monthly_average(data[weight_type])}\")\n",
    "    print(f\"FF Market Portfolio: {compute_monthly_average(data['Mkt'])}\")\n",
    "    print()\n",
    "    \n",
    "    print(\"MONTHLY VOLATILITY\")\n",
    "    print(f\"FF Equal Portfolio {weight_type}: {compute_monthly_volatility(data[weight_type])}\")\n",
    "    print()\n",
    "    \n",
    "    print(\"MONTHLY SHARPE RATIO\")\n",
    "    print(f\"FF Equal Portfolio {weight_type}: {compute_monthly_sharpe_ratio(data[weight_type], data['RF'])}\")\n",
    "    print()"
   ]
  },
  {
   "cell_type": "code",
   "execution_count": 32,
   "id": "26c67877",
   "metadata": {},
   "outputs": [],
   "source": [
    "def capm(data, lower_date, higher_date, formula, weight_type):\n",
    "    print(f\"FF EQUAL PORTFOLIO {weight_type}\")\n",
    "    if not higher_date:\n",
    "        model = smf.ols(formula=formula, data=data[data['Date'] > lower_date]).fit()\n",
    "    else:\n",
    "        model = smf.ols(formula=formula, data=data[(data['Date'] > lower_date) & (data['Date'] < higher_date)]).fit()\n",
    "    print(f\"P Value: {model.pvalues[0]}\")\n",
    "    print(f\"Beta of the {weight_type} Stratgey: {model.params[1]}\")\n",
    "    print(f\"Alpha of the {weight_type} Stratgey: {model.params[0]}\")    \n",
    "    beta = model.params[1]\n",
    "    return beta"
   ]
  },
  {
   "cell_type": "markdown",
   "id": "286ebe02",
   "metadata": {},
   "source": [
    "## EQUAL PORTFOLIO EQUAL WEIGHTED"
   ]
  },
  {
   "cell_type": "code",
   "execution_count": 33,
   "id": "d62e1c3e",
   "metadata": {},
   "outputs": [
    {
     "name": "stdout",
     "output_type": "stream",
     "text": [
      "Correlation of EQ Portflio with the Market: -0.3066965053424606\n",
      "\n",
      "MEAN MONTHLY RETURNS\n",
      "FF Equal Portfolio EQ: 0.7030035842293906\n",
      "FF Market Portfolio: 0.6469175627240144\n",
      "\n",
      "MONTHLY VOLATILITY\n",
      "FF Equal Portfolio EQ: 5.275894808678924\n",
      "\n",
      "MONTHLY SHARPE RATIO\n",
      "FF Equal Portfolio EQ: 0.1092736208621674\n",
      "\n"
     ]
    }
   ],
   "source": [
    "eq_market_corr = find_corr(merged_data[(merged_data['Date'] > '1999-12-31')]['EQ'], merged_data[merged_data['Date'] > '1999-12-31']['Mkt'])\n",
    "print(f\"Correlation of EQ Portflio with the Market: {eq_market_corr}\")\n",
    "print()\n",
    "find_quantative_measures('EQ', merged_data[merged_data['Date'] > '1999-12-31'])"
   ]
  },
  {
   "cell_type": "code",
   "execution_count": 34,
   "id": "eed01a69",
   "metadata": {},
   "outputs": [
    {
     "name": "stdout",
     "output_type": "stream",
     "text": [
      "FF EQUAL PORTFOLIO EQ\n",
      "P Value: 0.7649097119082767\n",
      "Beta of the EQ Stratgey: -0.1672021676381431\n",
      "Alpha of the EQ Stratgey: 0.17578085383054962\n"
     ]
    },
    {
     "data": {
      "image/png": "[encoded data removed]",
      "text/plain": [
       "<Figure size 432x288 with 1 Axes>"
      ]
     },
     "metadata": {
      "needs_background": "light"
     },
     "output_type": "display_data"
    }
   ],
   "source": [
    "### 2020-2023 RETURNS\n",
    "date = '2019-12-31'\n",
    "beta_eq_1980_2023 = capm(merged_data, date, None, 'EQ_RF ~ Mkt_RF', 'EQ')\n",
    "\n",
    "plt.figure()\n",
    "plt.plot(merged_data[merged_data['Date'] > date]['Date'], (1 + merged_data[merged_data['Date'] > date]['EQ_RF']/100).cumprod() - 1)\n",
    "plt.plot(merged_data[merged_data['Date'] > date]['Date'], (1 + merged_data[merged_data['Date'] > date]['Mkt']/100).cumprod() - 1)\n",
    "\n",
    "plt.xlabel(\"Date (Months)\")\n",
    "plt.ylabel(\"Returns\")\n",
    "plt.title(f\"Cumulative Returns for Equal Portolfio Equal Weighted 2020-2023\")\n",
    "plt.legend(['EQUAL Centrality Strategy', 'Market', 'Implied Returns'])\n",
    "plt.show() "
   ]
  },
  {
   "cell_type": "code",
   "execution_count": 35,
   "id": "98610b99",
   "metadata": {},
   "outputs": [
    {
     "name": "stdout",
     "output_type": "stream",
     "text": [
      "FF EQUAL PORTFOLIO EQ\n",
      "P Value: 0.011649875053126266\n",
      "Beta of the EQ Stratgey: -0.40800722480777973\n",
      "Alpha of the EQ Stratgey: 0.8564027419374374\n"
     ]
    },
    {
     "data": {
      "image/png": "[encoded data removed]",
      "text/plain": [
       "<Figure size 432x288 with 1 Axes>"
      ]
     },
     "metadata": {
      "needs_background": "light"
     },
     "output_type": "display_data"
    }
   ],
   "source": [
    "### 2000-2020 RETURNS\n",
    "lower_date = '1999-12-31'\n",
    "higher_date = '2020-01-01'\n",
    "beta_eq_1990_2000 = capm(merged_data, lower_date, higher_date, 'EQ_RF ~ Mkt_RF', 'EQ')\n",
    "\n",
    "plt.figure()\n",
    "plt.plot(merged_data[(merged_data['Date'] > lower_date) & (merged_data['Date'] < higher_date)]['Date'], (1 + merged_data[(merged_data['Date'] > lower_date) & (merged_data['Date'] < higher_date)]['EQ_RF']/100).cumprod() - 1)\n",
    "plt.plot(merged_data[(merged_data['Date'] > lower_date) & (merged_data['Date'] < higher_date)]['Date'], (1 + merged_data[(merged_data['Date'] > lower_date) & (merged_data['Date'] < higher_date)]['Mkt']/100).cumprod() - 1)\n",
    "\n",
    "plt.xlabel(\"Date (Months)\")\n",
    "plt.ylabel(\"Returns\")\n",
    "plt.title(f\"Cumulative Returns for Equal Portolfio Equal Weighted 2000-2020\")\n",
    "plt.legend(['EQUAL Centrality Strategy', 'Market', 'Implied Returns'])\n",
    "plt.show() "
   ]
  },
  {
   "cell_type": "code",
   "execution_count": 36,
   "id": "8949f0c2",
   "metadata": {},
   "outputs": [
    {
     "name": "stdout",
     "output_type": "stream",
     "text": [
      "FF EQUAL PORTFOLIO EQ\n",
      "P Value: 0.012550515427598495\n",
      "Beta of the EQ Stratgey: -0.3503715350377969\n",
      "Alpha of the EQ Stratgey: 0.7588600246863374\n"
     ]
    },
    {
     "data": {
      "image/png": "[encoded data removed]",
      "text/plain": [
       "<Figure size 432x288 with 1 Axes>"
      ]
     },
     "metadata": {
      "needs_background": "light"
     },
     "output_type": "display_data"
    }
   ],
   "source": [
    "### 2000-2023 RETURNS\n",
    "date = '1999-12-31'\n",
    "beta_eq_2000_2023 = capm(merged_data, date, None, 'EQ_RF ~ Mkt_RF', 'EQ')\n",
    "\n",
    "plt.figure()\n",
    "plt.plot(merged_data[merged_data['Date'] > date]['Date'], (1 + merged_data[merged_data['Date'] > date]['EQ_RF']/100).cumprod() - 1)\n",
    "plt.plot(merged_data[merged_data['Date'] > date]['Date'], (1 + merged_data[merged_data['Date'] > date]['Mkt']/100).cumprod() - 1)\n",
    "\n",
    "plt.xlabel(\"Date (Months)\")\n",
    "plt.ylabel(\"Returns\")\n",
    "plt.title(f\"Cumulative Returns for Equal Portolfio Equal Weighted 2000-2023\")\n",
    "plt.legend(['EQUAL Centrality Strategy', 'Market', 'Implied Returns'])\n",
    "plt.show() "
   ]
  },
  {
   "cell_type": "markdown",
   "id": "dd8de3b8",
   "metadata": {},
   "source": [
    "## EQUAL PORTFOLIO VALUE WEIGHTED"
   ]
  },
  {
   "cell_type": "code",
   "execution_count": 37,
   "id": "0fca47b2",
   "metadata": {},
   "outputs": [
    {
     "name": "stdout",
     "output_type": "stream",
     "text": [
      "Correlation of VAL Portflio with the Market: -0.24883346293422529\n",
      "\n",
      "MEAN MONTHLY RETURNS\n",
      "FF Equal Portfolio VAL: 0.6711110253383886\n",
      "FF Market Portfolio: 0.6469175627240144\n",
      "\n",
      "MONTHLY VOLATILITY\n",
      "FF Equal Portfolio VAL: 4.909754820473522\n",
      "\n",
      "MONTHLY SHARPE RATIO\n",
      "FF Equal Portfolio VAL: 0.1109268364827899\n",
      "\n"
     ]
    }
   ],
   "source": [
    "val_market_corr = find_corr(merged_data[(merged_data['Date'] > '1999-12-31')]['VAL'], merged_data[merged_data['Date'] > '1999-12-31']['Mkt'])\n",
    "print(f\"Correlation of VAL Portflio with the Market: {val_market_corr}\")\n",
    "print()\n",
    "find_quantative_measures('VAL', merged_data[merged_data['Date'] > '1999-12-31'])"
   ]
  },
  {
   "cell_type": "code",
   "execution_count": 38,
   "id": "afc17716",
   "metadata": {},
   "outputs": [
    {
     "name": "stdout",
     "output_type": "stream",
     "text": [
      "FF EQUAL PORTFOLIO VAL\n",
      "P Value: 0.5183545977773601\n",
      "Beta of the VAL Stratgey: -0.04688647715456793\n",
      "Alpha of the VAL Stratgey: 0.40265630593544866\n"
     ]
    },
    {
     "data": {
      "image/png": "[encoded data removed]",
      "text/plain": [
       "<Figure size 432x288 with 1 Axes>"
      ]
     },
     "metadata": {
      "needs_background": "light"
     },
     "output_type": "display_data"
    }
   ],
   "source": [
    "###2020-2023 RETURNS\n",
    "date = '2019-12-31'\n",
    "beta_val_1980_2023 = capm(merged_data, date, None, 'VAL_RF ~ Mkt_RF', 'VAL')\n",
    "\n",
    "plt.figure()\n",
    "plt.plot(merged_data[merged_data['Date'] > date]['Date'], (1 + merged_data[merged_data['Date'] > date]['VAL_RF']/100).cumprod() - 1)\n",
    "plt.plot(merged_data[merged_data['Date'] > date]['Date'], (1 + merged_data[merged_data['Date'] > date]['Mkt']/100).cumprod() - 1)\n",
    "\n",
    "plt.xlabel(\"Date (Months)\")\n",
    "plt.ylabel(\"Returns\")\n",
    "plt.title(f\"Cumulative Returns for Equal Portolfio Value Weighted 2020-2023\")\n",
    "plt.legend(['VALUE Centrality Strategy', 'Market', 'Implied Returns'])\n",
    "plt.show() "
   ]
  },
  {
   "cell_type": "code",
   "execution_count": 39,
   "id": "5f947bb5",
   "metadata": {},
   "outputs": [
    {
     "name": "stdout",
     "output_type": "stream",
     "text": [
      "FF EQUAL PORTFOLIO VAL\n",
      "P Value: 0.02132153641379851\n",
      "Beta of the VAL Stratgey: -0.3334093928398133\n",
      "Alpha of the VAL Stratgey: 0.7312386931825486\n"
     ]
    },
    {
     "data": {
      "image/png": "[encoded data removed]",
      "text/plain": [
       "<Figure size 432x288 with 1 Axes>"
      ]
     },
     "metadata": {
      "needs_background": "light"
     },
     "output_type": "display_data"
    }
   ],
   "source": [
    "### 2000-2020 RETURNS\n",
    "lower_date = '1999-12-31'\n",
    "higher_date = '2020-01-01'\n",
    "beta_val_1990_2000 = capm(merged_data, lower_date, higher_date, 'VAL_RF ~ Mkt_RF', 'VAL')\n",
    "\n",
    "plt.figure()\n",
    "plt.plot(merged_data[(merged_data['Date'] > lower_date) & (merged_data['Date'] < higher_date)]['Date'], (1 + merged_data[(merged_data['Date'] > lower_date) & (merged_data['Date'] < higher_date)]['VAL_RF']/100).cumprod() - 1)\n",
    "plt.plot(merged_data[(merged_data['Date'] > lower_date) & (merged_data['Date'] < higher_date)]['Date'], (1 + merged_data[(merged_data['Date'] > lower_date) & (merged_data['Date'] < higher_date)]['Mkt']/100).cumprod() - 1)\n",
    "\n",
    "plt.xlabel(\"Date (Months)\")\n",
    "plt.ylabel(\"Returns\")\n",
    "plt.title(f\"Cumulative Returns for Equal Portolfio Value Weighted 2000-2020\")\n",
    "plt.legend(['VALUE Centrality Strategy', 'Market', 'Implied Returns'])\n",
    "plt.show() "
   ]
  },
  {
   "cell_type": "code",
   "execution_count": 40,
   "id": "13e7232c",
   "metadata": {},
   "outputs": [
    {
     "name": "stdout",
     "output_type": "stream",
     "text": [
      "FF EQUAL PORTFOLIO VAL\n",
      "P Value: 0.01785360280306806\n",
      "Beta of the VAL Stratgey: -0.26388980948705393\n",
      "Alpha of the VAL Stratgey: 0.6819597720678514\n"
     ]
    },
    {
     "data": {
      "image/png": "[encoded data removed]",
      "text/plain": [
       "<Figure size 432x288 with 1 Axes>"
      ]
     },
     "metadata": {
      "needs_background": "light"
     },
     "output_type": "display_data"
    }
   ],
   "source": [
    "### 2000-2023 RETURNS\n",
    "date = '1999-12-31'\n",
    "beta_eq_2000_2023 = capm(merged_data, date, None, 'VAL_RF ~ Mkt_RF', 'VAL')\n",
    "\n",
    "plt.figure()\n",
    "plt.plot(merged_data[merged_data['Date'] > date]['Date'], (1 + merged_data[merged_data['Date'] > date]['VAL_RF']/100).cumprod() - 1)\n",
    "plt.plot(merged_data[merged_data['Date'] > date]['Date'], (1 + merged_data[merged_data['Date'] > date]['Mkt']/100).cumprod() - 1)\n",
    "\n",
    "plt.xlabel(\"Date (Months)\")\n",
    "plt.ylabel(\"Returns\")\n",
    "plt.title(f\"Cumulative Returns for Equal Portolfio Value Weighted 2000-2023\")\n",
    "plt.legend(['VALUE Centrality Strategy', 'Market', 'Implied Returns'])\n",
    "plt.show() "
   ]
  },
  {
   "cell_type": "code",
   "execution_count": 41,
   "id": "596c401d",
   "metadata": {},
   "outputs": [],
   "source": [
    "## at each month (so each data entry), create a graph and find the coefficents \n",
    "## note the graph will be rolling, for a time interval of 1 year (12 months)\n",
    "## so, pass in month + 111 at a time for correlation graph, but using rolling coefficents for portfolio\n",
    "## construction \n",
    "\n",
    "## if 11 previous months are not available, we use however many are available\n",
    "\n",
    "## so the first month, is dropped since all centrality coefficents are zero since there are no correlations yet due \n",
    "## to only one month of returns \n",
    "\n",
    "## NOTE, PREVIOUS 11 MONTHS ARE NEEDED. \n",
    "\n",
    "\n",
    "## \n",
    "\n"
   ]
  },
  {
   "cell_type": "code",
   "execution_count": null,
   "id": "504f36cb",
   "metadata": {},
   "outputs": [],
   "source": []
  },
  {
   "cell_type": "code",
   "execution_count": null,
   "id": "e5c075e6",
   "metadata": {},
   "outputs": [],
   "source": []
  },
  {
   "cell_type": "code",
   "execution_count": null,
   "id": "e56c3474",
   "metadata": {},
   "outputs": [],
   "source": []
  }
 ],
 "metadata": {
  "kernelspec": {
   "display_name": "Python 3 (ipykernel)",
   "language": "python",
   "name": "python3"
  },
  "language_info": {
   "codemirror_mode": {
    "name": "ipython",
    "version": 3
   },
   "file_extension": ".py",
   "mimetype": "text/x-python",
   "name": "python",
   "nbconvert_exporter": "python",
   "pygments_lexer": "ipython3",
   "version": "3.9.4"
  }
 },
 "nbformat": 4,
 "nbformat_minor": 5
}
